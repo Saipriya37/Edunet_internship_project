{
 "cells": [
  {
   "cell_type": "markdown",
   "id": "945b6c13-1088-408d-889d-28e1137c014e",
   "metadata": {},
   "source": [
    "# Hiding the information inside the image using Steganography"
   ]
  },
  {
   "cell_type": "code",
   "execution_count": 2,
   "id": "faab9125-7b11-4c6a-9d58-046323e46ce3",
   "metadata": {},
   "outputs": [
    {
     "name": "stdout",
     "output_type": "stream",
     "text": [
      "Requirement already satisfied: pillow in c:\\users\\saipr\\appdata\\roaming\\python\\python312\\site-packages (11.2.1)\n",
      "Requirement already satisfied: numpy in c:\\users\\saipr\\appdata\\roaming\\python\\python312\\site-packages (2.1.3)\n",
      "Requirement already satisfied: matplotlib in c:\\users\\saipr\\anaconda3\\lib\\site-packages (3.10.0)\n",
      "Requirement already satisfied: contourpy>=1.0.1 in c:\\users\\saipr\\anaconda3\\lib\\site-packages (from matplotlib) (1.2.0)\n",
      "Requirement already satisfied: cycler>=0.10 in c:\\users\\saipr\\anaconda3\\lib\\site-packages (from matplotlib) (0.11.0)\n",
      "Requirement already satisfied: fonttools>=4.22.0 in c:\\users\\saipr\\anaconda3\\lib\\site-packages (from matplotlib) (4.51.0)\n",
      "Requirement already satisfied: kiwisolver>=1.3.1 in c:\\users\\saipr\\anaconda3\\lib\\site-packages (from matplotlib) (1.4.4)\n",
      "Requirement already satisfied: packaging>=20.0 in c:\\users\\saipr\\appdata\\roaming\\python\\python312\\site-packages (from matplotlib) (24.2)\n",
      "Requirement already satisfied: pyparsing>=2.3.1 in c:\\users\\saipr\\anaconda3\\lib\\site-packages (from matplotlib) (3.0.9)\n",
      "Requirement already satisfied: python-dateutil>=2.7 in c:\\users\\saipr\\appdata\\roaming\\python\\python312\\site-packages (from matplotlib) (2.9.0.post0)\n",
      "Collecting numpy\n",
      "  Using cached numpy-1.26.4-cp312-cp312-win_amd64.whl.metadata (61 kB)\n",
      "Requirement already satisfied: six>=1.5 in c:\\users\\saipr\\appdata\\roaming\\python\\python312\\site-packages (from python-dateutil>=2.7->matplotlib) (1.17.0)\n",
      "Using cached numpy-1.26.4-cp312-cp312-win_amd64.whl (15.5 MB)\n",
      "Installing collected packages: numpy\n",
      "  Attempting uninstall: numpy\n",
      "    Found existing installation: numpy 2.1.3\n",
      "    Uninstalling numpy-2.1.3:\n",
      "      Successfully uninstalled numpy-2.1.3\n",
      "Successfully installed numpy-1.26.4\n"
     ]
    },
    {
     "name": "stderr",
     "output_type": "stream",
     "text": [
      "  WARNING: Failed to remove contents in a temporary directory 'C:\\Users\\saipr\\AppData\\Roaming\\Python\\Python312\\site-packages\\~.mpy.libs'.\n",
      "  You can safely remove it manually.\n",
      "  WARNING: Failed to remove contents in a temporary directory 'C:\\Users\\saipr\\AppData\\Roaming\\Python\\Python312\\site-packages\\~.mpy'.\n",
      "  You can safely remove it manually.\n",
      "ERROR: pip's dependency resolver does not currently take into account all the packages that are installed. This behaviour is the source of the following dependency conflicts.\n",
      "spacy 3.8.4 requires typer<1.0.0,>=0.3.0, which is not installed.\n",
      "tf-keras 2.18.0 requires tensorflow<2.19,>=2.18, but you have tensorflow 2.19.0 which is incompatible.\n"
     ]
    }
   ],
   "source": [
    "!pip install pillow numpy matplotlib"
   ]
  },
  {
   "cell_type": "code",
   "execution_count": 42,
   "id": "9fee0ee6-ff2e-4b1e-b740-a8528b563e31",
   "metadata": {},
   "outputs": [],
   "source": [
    "#import required libraries\n",
    "from PIL import Image\n",
    "import numpy as np"
   ]
  },
  {
   "cell_type": "code",
   "execution_count": 44,
   "id": "4538be7f-62ed-4727-b05e-bdd99a32c80f",
   "metadata": {},
   "outputs": [],
   "source": [
    "# STEP 1: Convert text to binary\n",
    "def text_to_binary(text):\n",
    "    return ''.join(format(ord(char), '08b') for char in text)"
   ]
  },
  {
   "cell_type": "code",
   "execution_count": 46,
   "id": "37330e5b-e28e-4096-a536-097ab2b7b47d",
   "metadata": {},
   "outputs": [],
   "source": [
    "# STEP 2: Convert binary back to text\n",
    "def binary_to_text(binary_data):\n",
    "    chars = [binary_data[i:i+8] for i in range(0, len(binary_data), 8)]\n",
    "    return ''.join(chr(int(char, 2)) for char in chars if len(char) == 8)"
   ]
  },
  {
   "cell_type": "code",
   "execution_count": 54,
   "id": "0a28abc3-dc9b-4c7e-8c98-49ddfc8d5f87",
   "metadata": {},
   "outputs": [],
   "source": [
    "# STEP 3: Encode message in image\n",
    "def encode_image(image_path, secret_message, output_path):\n",
    "    img = Image.open(image_path)\n",
    "    img = img.convert(\"RGB\")\n",
    "    data = np.array(img)\n",
    "\n",
    "    binary_secret = text_to_binary(secret_message) + '1111111111111110'  # End marker\n",
    "    flat_data = data.flatten().astype(np.uint16)  # Use uint16 to avoid overflow\n",
    "\n",
    "    if len(binary_secret) > len(flat_data):\n",
    "        raise ValueError(\"Message is too long to hide in this image!\")\n",
    "\n",
    "    for i in range(len(binary_secret)):\n",
    "        flat_data[i] = (flat_data[i] & 0xFFFE) | int(binary_secret[i])  # Clear LSB and set new\n",
    "\n",
    "    new_data = flat_data.astype(np.uint8).reshape(data.shape)  # Convert back to uint8\n",
    "    encoded_img = Image.fromarray(new_data)\n",
    "    encoded_img.save(output_path)\n",
    "\n",
    "    print(f\"✅ Message hidden successfully in: {output_path}\")"
   ]
  },
  {
   "cell_type": "code",
   "execution_count": 56,
   "id": "2456f0e0-9a9c-4746-b4dc-294fa96eb618",
   "metadata": {},
   "outputs": [
    {
     "name": "stdout",
     "output_type": "stream",
     "text": [
      "✅ Message hidden successfully in: C:\\Users\\saipr\\Downloads\\nature1_image.png\n"
     ]
    }
   ],
   "source": [
    "# Encode using the uploaded image path\n",
    "encode_image(\n",
    "    image_path= \"C:\\\\Users\\\\saipr\\\\Downloads\\\\nature_image.png\", # Uploaded image\n",
    "    secret_message = ' Hello Ammu, this is secret!',          # Message to hide\n",
    "    output_path= \"C:\\\\Users\\\\saipr\\\\Downloads\\\\nature1_image.png\"        # Output image\n",
    ")"
   ]
  },
  {
   "cell_type": "code",
   "execution_count": 58,
   "id": "eceb3f56-ed98-4ad1-898d-4dae4d5640dd",
   "metadata": {},
   "outputs": [],
   "source": [
    "def decode_image(stego_image_path):\n",
    "    img = Image.open(stego_image_path)\n",
    "    img = img.convert(\"RGB\")\n",
    "    data = np.array(img).flatten()\n",
    "\n",
    "    binary_data = ''\n",
    "    for value in data:\n",
    "        binary_data += str(value & 1)\n",
    "\n",
    "    eof = binary_data.find('1111111111111110')\n",
    "    if eof != -1:\n",
    "        binary_data = binary_data[:eof]\n",
    "\n",
    "    return binary_to_text(binary_data)"
   ]
  },
  {
   "cell_type": "code",
   "execution_count": 60,
   "id": "ca353021-aff3-45ee-a5f8-2d8fbe319775",
   "metadata": {},
   "outputs": [
    {
     "name": "stdout",
     "output_type": "stream",
     "text": [
      "🔓 Hidden Message:  Hello Ammu, this is secret!\n"
     ]
    }
   ],
   "source": [
    "# Decode and print message\n",
    "hidden_message = decode_image(\"C:\\\\Users\\\\saipr\\\\Downloads\\\\nature1_image.png\")\n",
    "print(\"🔓 Hidden Message:\", hidden_message)"
   ]
  },
  {
   "cell_type": "code",
   "execution_count": null,
   "id": "b9a042db-7a78-4408-b916-d47fb19e2f06",
   "metadata": {},
   "outputs": [],
   "source": []
  }
 ],
 "metadata": {
  "kernelspec": {
   "display_name": "Python 3 (ipykernel)",
   "language": "python",
   "name": "python3"
  },
  "language_info": {
   "codemirror_mode": {
    "name": "ipython",
    "version": 3
   },
   "file_extension": ".py",
   "mimetype": "text/x-python",
   "name": "python",
   "nbconvert_exporter": "python",
   "pygments_lexer": "ipython3",
   "version": "3.12.4"
  }
 },
 "nbformat": 4,
 "nbformat_minor": 5
}
